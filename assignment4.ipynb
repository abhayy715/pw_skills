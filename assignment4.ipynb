{
 "cells": [
  {
   "cell_type": "markdown",
   "id": "8a5440c3",
   "metadata": {},
   "source": [
    "THEORY QUESTIONS"
   ]
  },
  {
   "cell_type": "markdown",
   "id": "bbbb6a53",
   "metadata": {},
   "source": [
    "1.What is Object-Oriented Programming (OOP)?\n",
    "\n",
    "    OOP is a programming paradigm based on the concept of \"objects\", which encapsulate data and methods that operate on that data. It promotes code reusability, modularity, and abstraction.\n",
    "\n",
    "2.What is a class in OOP?\n",
    "\n",
    "    A class is a blueprint for creating objects. It defines attributes and methods that its instances will have.\n",
    "\n",
    "3.What is an object in OOP?\n",
    "\n",
    "    An object is an instance of a class. It contains real values instead of variables defined in the class.\n",
    "\n",
    "4.Difference between abstraction and encapsulation:\n",
    "\n",
    "    Abstraction: Hides complex implementation details and shows only functionality.\n",
    "    \n",
    "    Encapsulation: Hides internal state by restricting access using private variables/methods.\n",
    "\n",
    "5.What are dunder methods in Python?\n",
    "\n",
    "    \"Dunder\" means double underscore. These are special methods like __init__, __str__, __repr__ used to define behavior for built-in functions.\n",
    "\n",
    "6.Explain the concept of inheritance in OOP.\n",
    "\n",
    "    Inheritance allows a class (child) to acquire properties and methods of another class (parent), promoting reusability.\n",
    "\n",
    "7.What is polymorphism in OOP?\n",
    "    \n",
    "    Polymorphism allows methods to behave differently based on the object calling them (e.g., method overriding).\n",
    "\n",
    "8.How is encapsulation achieved in Python?\n",
    "    \n",
    "    Using private variables (__var) and getter/setter methods to restrict access to data.\n",
    "\n",
    "9.What is a constructor in Python?\n",
    "    \n",
    "    __init__ is a special method used to initialize objects when a class is instantiated.\n",
    "\n",
    "8.What are class and static methods in Python?\n",
    "\n",
    "    Class method: Uses @classmethod, takes cls as the first parameter.\n",
    "\n",
    "    Static method: Uses @staticmethod, no self or cls.\n",
    "\n",
    "9.What is method overloading in Python?\n",
    "\n",
    "    Python doesn’t support traditional method overloading. Achieved using default or variable-length arguments.\n",
    "\n",
    "10.What is method overriding in OOP?\n",
    "\n",
    "    When a child class defines a method with the same name as in its parent class, it overrides the parent’s version.\n",
    "\n",
    "11.What is a property decorator in Python?\n",
    "\n",
    "    @property is used to define getter methods that can be accessed like attributes.\n",
    "\n",
    "12.Why is polymorphism important in OOP?\n",
    "\n",
    "    It allows flexible and interchangeable use of objects and methods, enhancing code flexibility and reusability.\n",
    "\n",
    "13.What is an abstract class in Python?\n",
    "\n",
    "    A class with one or more abstract methods (using abc module) that must be implemented in subclasses.\n",
    "\n",
    "14.what are the advantages of OOP?\n",
    "\n",
    "    Modularity\n",
    "    Code reusability\n",
    "    Scalability\n",
    "    Maintainability\n",
    "\n",
    "15.what is the difference between class and instance variable?\n",
    "\n",
    "    Class variable: Shared across all instances.\n",
    "    Instance variable: Unique to each object.\n",
    "\n",
    "16.What is multiple inheritance in Python?\n",
    "\n",
    "    A class can inherit from more than one parent class.\n",
    "\n",
    "17.Explain the purpose of __str__ and __repr__ methods in python.\n",
    "\n",
    "    __str__: User-friendly string representation.\n",
    "\n",
    "    __repr__: Developer-friendly, unambiguous representation.\n",
    "\n",
    "18.What is the significance of the super() function in python?\n",
    "\n",
    "    It allows access to methods of a parent class.\n",
    "\n",
    "19.What is the significance of the __del__ method in python?\n",
    "    \n",
    "    It is called when an object is about to be destroyed to free resources.\n",
    "\n",
    "20.What is the difference between @staticmethod and @classmethod in python?\n",
    "\n",
    "    @staticmethod: No access to class or instance.\n",
    "\n",
    "    @classmethod: Accesses class-level data via cls.\n",
    "\n",
    "21.How polymorphism works in Python with inheritance?\n",
    "\n",
    "    A child class can override parent methods and Python will call the correct method based on the object type.\n",
    "\n",
    "22.What is method chaining in Python OOP?\n",
    "\n",
    "    Returning self from methods to allow chained calls like obj.set().update().save().\n",
    "\n",
    "23.What is the purpose of __call__ method in python?\n",
    "\n",
    "    Allows an object to be called like a function.\n"
   ]
  },
  {
   "cell_type": "markdown",
   "id": "aeeb9738",
   "metadata": {},
   "source": [
    "PRACTICAL QUESTIONS\n"
   ]
  },
  {
   "cell_type": "markdown",
   "id": "b4a43a06",
   "metadata": {},
   "source": [
    "1. Create a parent class Animal with a method speak() that prints a generic message. Create a child class Dog\n",
    "that overrides the speak() method to print \"Bark!\".\n"
   ]
  },
  {
   "cell_type": "code",
   "execution_count": 2,
   "id": "35377bfb",
   "metadata": {},
   "outputs": [
    {
     "name": "stdout",
     "output_type": "stream",
     "text": [
      "Barks\n"
     ]
    }
   ],
   "source": [
    "class Animal():\n",
    "    def speak(self):\n",
    "        print(\"Animal makes a sound\")\n",
    "\n",
    "class Dog(Animal):\n",
    "    def speak(self):\n",
    "        print(\"Barks\")\n",
    "\n",
    "rottweiler=Dog()\n",
    "rottweiler.speak()"
   ]
  },
  {
   "cell_type": "markdown",
   "id": "3fc33fd1",
   "metadata": {},
   "source": [
    "2. Write a program to create an abstract class Shape with a method area(). Derive classes Circle and Rectangle\n",
    "from it and implement the area() method in both."
   ]
  },
  {
   "cell_type": "code",
   "execution_count": 10,
   "id": "4537e6bd",
   "metadata": {},
   "outputs": [
    {
     "data": {
      "text/plain": [
       "78.5"
      ]
     },
     "execution_count": 10,
     "metadata": {},
     "output_type": "execute_result"
    }
   ],
   "source": [
    "import abc\n",
    "\n",
    "class Shape():\n",
    "    @abc.abstractmethod\n",
    "    def area(self):\n",
    "        pass\n",
    "\n",
    "class Circle(Shape):\n",
    "    def __init__(self, radius):\n",
    "        self.radius = radius\n",
    "\n",
    "    def area(self):\n",
    "        return 3.14 * self.radius * self.radius\n",
    "\n",
    "class Rectangle(Shape):\n",
    "    def __init__(self, width, height):\n",
    "        self.width = width\n",
    "        self.height = height\n",
    "\n",
    "    def area(self):\n",
    "        return self.width * self.height\n",
    "\n",
    "a=Circle(5)\n",
    "a.area()"
   ]
  },
  {
   "cell_type": "markdown",
   "id": "9077c112",
   "metadata": {},
   "source": [
    "3. Implement a multi-level inheritance scenario where a class Vehicle has an attribute type. Derive a class Car\n",
    "and further derive a class ElectricCar that adds a battery attribute."
   ]
  },
  {
   "cell_type": "code",
   "execution_count": 13,
   "id": "7c36d58e",
   "metadata": {},
   "outputs": [
    {
     "name": "stdout",
     "output_type": "stream",
     "text": [
      "Vehicle Type: Four Wheeler\n",
      "Brand: Tesla\n",
      "Battery Capacity: 75 kWh\n"
     ]
    }
   ],
   "source": [
    "class Vehicle:\n",
    "    def __init__(self, vehicle_type):\n",
    "        self.type = vehicle_type\n",
    "\n",
    "    def display_info(self):\n",
    "        print(f\"Vehicle Type: {self.type}\")\n",
    "\n",
    "class Car(Vehicle):\n",
    "    def __init__(self, vehicle_type, brand):\n",
    "        super().__init__(vehicle_type)\n",
    "        self.brand = brand\n",
    "\n",
    "    def display_info(self):\n",
    "        super().display_info()\n",
    "        print(f\"Brand: {self.brand}\")\n",
    "\n",
    "class ElectricCar(Car):\n",
    "    def __init__(self, vehicle_type, brand, battery_capacity):\n",
    "        super().__init__(vehicle_type, brand)\n",
    "        self.battery = battery_capacity\n",
    "\n",
    "    def display_info(self):\n",
    "        super().display_info()\n",
    "        print(f\"Battery Capacity: {self.battery} kWh\")\n",
    "\n",
    "ev = ElectricCar(\"Four Wheeler\", \"Tesla\", 75)\n",
    "ev.display_info()\n"
   ]
  },
  {
   "cell_type": "markdown",
   "id": "7b172b80",
   "metadata": {},
   "source": [
    "4. Demonstrate polymorphism by creating a base class Bird with a method fly(). Create two derived classes\n",
    "Sparrow and Penguin that override the fly() method.\n"
   ]
  },
  {
   "cell_type": "code",
   "execution_count": 17,
   "id": "7ae4775d",
   "metadata": {},
   "outputs": [
    {
     "name": "stdout",
     "output_type": "stream",
     "text": [
      "Penguins can't fly\n"
     ]
    }
   ],
   "source": [
    "class Bird:\n",
    "    def fly(self):\n",
    "        print(\"Bird is flying\")\n",
    "\n",
    "class Sparrow(Bird):\n",
    "    def fly(self):\n",
    "        print(\"Sparrow flies high\")\n",
    "\n",
    "class Penguin(Bird):\n",
    "    def fly(self):\n",
    "        print(\"Penguins can't fly\")\n",
    "        \n",
    "a=Penguin()\n",
    "a.fly()\n"
   ]
  },
  {
   "cell_type": "markdown",
   "id": "9c204ed4",
   "metadata": {},
   "source": [
    "5. Write a program to demonstrate encapsulation by creating a class BankAccount with private attributes\n",
    "balance and methods to deposit, withdraw, and check balance"
   ]
  },
  {
   "cell_type": "code",
   "execution_count": 21,
   "id": "ca861691",
   "metadata": {},
   "outputs": [
    {
     "data": {
      "text/plain": [
       "5000"
      ]
     },
     "execution_count": 21,
     "metadata": {},
     "output_type": "execute_result"
    }
   ],
   "source": [
    "class BankAccount:\n",
    "    def __init__(self, balance=0):\n",
    "        self.__balance = balance\n",
    "\n",
    "    def deposit(self, amount):\n",
    "        self.__balance += amount\n",
    "\n",
    "    def withdraw(self, amount):\n",
    "        if amount <= self.__balance:\n",
    "            self.__balance -= amount\n",
    "\n",
    "    def check_balance(self):\n",
    "        return self.__balance\n",
    "\n",
    "person=BankAccount(5000)\n",
    "person.check_balance()\n",
    "\n"
   ]
  },
  {
   "cell_type": "markdown",
   "id": "7910e84e",
   "metadata": {},
   "source": [
    "6. Demonstrate runtime polymorphism using a method play() in a base class Instrument. Derive classes Guitar\n",
    "and Piano that implement their own version of play()."
   ]
  },
  {
   "cell_type": "code",
   "execution_count": 22,
   "id": "a2d28a0a",
   "metadata": {},
   "outputs": [],
   "source": [
    "class Instrument:\n",
    "    def play(self):\n",
    "        print(\"Playing instrument\")\n",
    "\n",
    "class Guitar(Instrument):\n",
    "    def play(self):\n",
    "        print(\"Strumming guitar\")\n",
    "\n",
    "class Piano(Instrument):\n",
    "    def play(self):\n",
    "        print(\"Playing piano\")\n"
   ]
  },
  {
   "cell_type": "markdown",
   "id": "4cf1c72b",
   "metadata": {},
   "source": [
    "7. Create a class MathOperations with a class method add_numbers() to add two numbers and a static method subtract_numbers() to subtract two numbers."
   ]
  },
  {
   "cell_type": "code",
   "execution_count": 23,
   "id": "fcb756c3",
   "metadata": {},
   "outputs": [],
   "source": [
    "class MathOperations:\n",
    "    @classmethod\n",
    "    def add_numbers(cls, a, b):\n",
    "        return a + b\n",
    "\n",
    "    @staticmethod\n",
    "    def subtract_numbers(a, b):\n",
    "        return a - b\n"
   ]
  },
  {
   "cell_type": "markdown",
   "id": "5511daef",
   "metadata": {},
   "source": [
    "8. Implement a class Person with a class method to count the total number of persons created."
   ]
  },
  {
   "cell_type": "code",
   "execution_count": 24,
   "id": "ac880efb",
   "metadata": {},
   "outputs": [],
   "source": [
    "class Person:\n",
    "    count = 0\n",
    "\n",
    "    def __init__(self, name):\n",
    "        self.name = name\n",
    "        Person.count += 1\n",
    "\n",
    "    @classmethod\n",
    "    def total_persons(cls):\n",
    "        return cls.count\n"
   ]
  },
  {
   "cell_type": "markdown",
   "id": "7ce0bae3",
   "metadata": {},
   "source": [
    "9. Write a class Fraction with attributes numerator and denominator. Override the __str__ method to display the fraction as \"numerator/denominator\"."
   ]
  },
  {
   "cell_type": "code",
   "execution_count": 25,
   "id": "418a150e",
   "metadata": {},
   "outputs": [],
   "source": [
    "class Fraction:\n",
    "    def __init__(self, numerator, denominator):\n",
    "        self.numerator = numerator\n",
    "        self.denominator = denominator\n",
    "\n",
    "    def __str__(self):\n",
    "        return f\"{self.numerator}/{self.denominator}\"\n"
   ]
  },
  {
   "cell_type": "markdown",
   "id": "a632f436",
   "metadata": {},
   "source": [
    "10. Demonstrate operator overloading by creating a class Vector and overriding the + operator to add two vectors."
   ]
  },
  {
   "cell_type": "code",
   "execution_count": 26,
   "id": "9d4a9b72",
   "metadata": {},
   "outputs": [],
   "source": [
    "class Vector:\n",
    "    def __init__(self, x, y):\n",
    "        self.x = x\n",
    "        self.y = y\n",
    "\n",
    "    def __add__(self, other):\n",
    "        return Vector(self.x + other.x, self.y + other.y)\n",
    "\n",
    "    def __str__(self):\n",
    "        return f\"({self.x}, {self.y})\"\n"
   ]
  },
  {
   "cell_type": "markdown",
   "id": "5f56a0e2",
   "metadata": {},
   "source": [
    "11. Create a class Person with attributes name and age. Add a method greet() that prints \"Hello, my name is {name} and I am {age} years old.\"\n",
    "\n",
    "\n"
   ]
  },
  {
   "cell_type": "code",
   "execution_count": 27,
   "id": "faf31752",
   "metadata": {},
   "outputs": [],
   "source": [
    "class Person:\n",
    "    def __init__(self, name, age):\n",
    "        self.name = name\n",
    "        self.age = age\n",
    "\n",
    "    def greet(self):\n",
    "        print(f\"Hello, my name is {self.name} and I am {self.age} years old.\")\n"
   ]
  },
  {
   "cell_type": "markdown",
   "id": "bb9e53a2",
   "metadata": {},
   "source": [
    "\n",
    "13. Create a class Rectangle with methods set_dimensions() to set the dimensions and area() to calculate the area."
   ]
  },
  {
   "cell_type": "code",
   "execution_count": 28,
   "id": "ba1101cb",
   "metadata": {},
   "outputs": [],
   "source": [
    "class Rectangle:\n",
    "    def set_dimensions(self, width, height):\n",
    "        self.width = width\n",
    "        self.height = height\n",
    "\n",
    "    def area(self):\n",
    "        return self.width * self.height\n"
   ]
  },
  {
   "cell_type": "markdown",
   "id": "8b2ea517",
   "metadata": {},
   "source": [
    "14. Create a class Employee with a method calculate_salary() that computes the salary based on hours worked and hourly rate. Create a derived class Manager that adds a bonus to the salary."
   ]
  },
  {
   "cell_type": "code",
   "execution_count": 33,
   "id": "c027c7c1",
   "metadata": {},
   "outputs": [
    {
     "data": {
      "text/plain": [
       "3700"
      ]
     },
     "execution_count": 33,
     "metadata": {},
     "output_type": "execute_result"
    }
   ],
   "source": [
    "class Employee:\n",
    "    def calculate_salary(self, hours, rate):\n",
    "        return hours * rate\n",
    "\n",
    "class Manager(Employee):\n",
    "    def calculate_salary(self, hours, rate, bonus):\n",
    "        return super().calculate_salary(hours, rate) + bonus\n",
    "\n",
    "manager=Manager()\n",
    "manager.calculate_salary(9,300,1000)"
   ]
  },
  {
   "cell_type": "markdown",
   "id": "fc420875",
   "metadata": {},
   "source": [
    "15. Create a class Product with attributes name, price, and quantity. Implement a method total_price() that calculates the total price of the product."
   ]
  },
  {
   "cell_type": "code",
   "execution_count": 34,
   "id": "e9a3116b",
   "metadata": {},
   "outputs": [],
   "source": [
    "class Product:\n",
    "    def __init__(self, name, price, quantity):\n",
    "        self.name = name\n",
    "        self.price = price\n",
    "        self.quantity = quantity\n",
    "\n",
    "    def total_price(self):\n",
    "        return self.price * self.quantity\n"
   ]
  },
  {
   "cell_type": "markdown",
   "id": "3f01870a",
   "metadata": {},
   "source": [
    "16. Create a class Animal with an abstract method sound(). Create two derived classes Cow and Sheep that implement the sound() method."
   ]
  },
  {
   "cell_type": "code",
   "execution_count": 40,
   "id": "3285a2c3",
   "metadata": {},
   "outputs": [
    {
     "name": "stdout",
     "output_type": "stream",
     "text": [
      "Moo\n",
      "Baa\n"
     ]
    }
   ],
   "source": [
    "import abc\n",
    "\n",
    "class Animal():\n",
    "    @abc.abstractmethod\n",
    "    def sound(self):\n",
    "        pass\n",
    "\n",
    "class Cow(Animal):\n",
    "    def sound(self):\n",
    "        print(\"Moo\")\n",
    "\n",
    "class Sheep(Animal):\n",
    "    def sound(self):\n",
    "        print(\"Baa\")\n",
    "    \n",
    "    \n",
    "c=Cow()\n",
    "c.sound()\n",
    "s=Sheep()\n",
    "s.sound()\n"
   ]
  },
  {
   "cell_type": "markdown",
   "id": "d673f3b8",
   "metadata": {},
   "source": [
    "17. Create a class Book with attributes title, author, and year_published. Add a method get_book_info() that returns a formatted string with the book's details.\n"
   ]
  },
  {
   "cell_type": "code",
   "execution_count": null,
   "id": "ce78a237",
   "metadata": {},
   "outputs": [],
   "source": [
    "class Book:\n",
    "    def __init__(self, title, author, year_published):\n",
    "        self.title = title\n",
    "        self.author = author\n",
    "        self.year_published = year_published\n",
    "\n",
    "    def get_book_info(self):\n",
    "        return f\"{self.title} by {self.author}, published in {self.year_published}\"\n"
   ]
  },
  {
   "cell_type": "markdown",
   "id": "f3847a1c",
   "metadata": {},
   "source": [
    "18. Create a class House with attributes address and price. Create a derived class Mansion that adds an attribute number_of_rooms."
   ]
  },
  {
   "cell_type": "code",
   "execution_count": 41,
   "id": "67c20dd1",
   "metadata": {},
   "outputs": [],
   "source": [
    "class House:\n",
    "    def __init__(self, address, price):\n",
    "        self.address = address\n",
    "        self.price = price\n",
    "\n",
    "class Mansion(House):\n",
    "    def __init__(self, address, price, number_of_rooms):\n",
    "        super().__init__(address, price)\n",
    "        self.number_of_rooms = number_of_rooms\n"
   ]
  },
  {
   "cell_type": "code",
   "execution_count": null,
   "id": "178d163b",
   "metadata": {},
   "outputs": [],
   "source": []
  }
 ],
 "metadata": {
  "kernelspec": {
   "display_name": "Python 3",
   "language": "python",
   "name": "python3"
  },
  "language_info": {
   "codemirror_mode": {
    "name": "ipython",
    "version": 3
   },
   "file_extension": ".py",
   "mimetype": "text/x-python",
   "name": "python",
   "nbconvert_exporter": "python",
   "pygments_lexer": "ipython3",
   "version": "3.13.0"
  }
 },
 "nbformat": 4,
 "nbformat_minor": 5
}
