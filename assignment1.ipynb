{
 "cells": [
  {
   "cell_type": "markdown",
   "id": "dfb8bac1",
   "metadata": {},
   "source": [
    "### ASSIGNMENT 1 -- MACHINE LEARNING"
   ]
  },
  {
   "cell_type": "markdown",
   "id": "a7de798c",
   "metadata": {},
   "source": [
    "1. What is a parameter?\n",
    "\n",
    "    A parameter is a variable within a machine learning model that is learned from training data. For instance, in a linear regression model, the slope (weights) and intercept (bias) are parameters. These values are optimized during training to minimize prediction errors.\n"
   ]
  },
  {
   "cell_type": "markdown",
   "id": "944ffa6c",
   "metadata": {},
   "source": [
    "2. What is correlation?\n",
    "\n",
    "    Correlation is a statistical measure that expresses the degree to which two variables move in relation to each other. A high correlation means the variables move together, while a low correlation means they move independently. It ranges from -1 (perfect negative) to +1 (perfect positive).\n",
    "\n"
   ]
  },
  {
   "cell_type": "markdown",
   "id": "754e15cc",
   "metadata": {},
   "source": [
    "3. What does negative correlation mean?\n",
    "\n",
    "    A negative correlation implies that as one variable increases, the other decreases. For example, as the amount of exercise increases, the weight of a person may decrease (assuming a negative correlation)."
   ]
  },
  {
   "cell_type": "markdown",
   "id": "90d49418",
   "metadata": {},
   "source": [
    "4. Define Machine Learning. What are the main components in Machine Learning?\n",
    "\n",
    "    Machine Learning is a field of computer science that gives computers the ability to learn from data and improve performance over time without being explicitly programmed.\n",
    "\n",
    "    Main Components:\n",
    "\n",
    "    Dataset: Input data used for training and testing\n",
    "\n",
    "    Model: Algorithm used to make predictions\n",
    "\n",
    "    Loss Function: Measures how good or bad predictions are\n",
    "\n",
    "    Optimizer: Reduces the loss by adjusting parameters\n",
    "\n",
    "    Evaluation Metrics: Accuracy, precision, recall, etc."
   ]
  },
  {
   "cell_type": "markdown",
   "id": "2488d30c",
   "metadata": {},
   "source": [
    "5. How does loss value help in determining whether the model is good or not?\n",
    "\n",
    "    The loss value quantifies the error between predicted and actual values. A lower loss means better performance. If the loss is high, it indicates the model is making large errors."
   ]
  },
  {
   "cell_type": "markdown",
   "id": "51250dec",
   "metadata": {},
   "source": [
    "6. What are continuous and categorical variables?\n",
    "\n",
    "    Continuous Variables: Take on any numeric value within a range (e.g., hes?**ight, salary).\n",
    "\n",
    "    Categorical Variables: Represent distinct categories or labels (e.g., gender, colors)."
   ]
  },
  {
   "cell_type": "markdown",
   "id": "5aaca43b",
   "metadata": {},
   "source": [
    "7. How do we handle categorical variables in Machine Learning? What are the common techniques?\n",
    "    \n",
    "    We convert categories to numeric values using:\n",
    "    Label Encoding: Assigns each category a unique number.\n",
    "\n",
    "    One-Hot Encoding: Creates binary columns for each category.\n",
    "    \n",
    "    Ordinal Encoding: Assumes an order in the categories."
   ]
  },
  {
   "cell_type": "markdown",
   "id": "24c4e5d6",
   "metadata": {},
   "source": [
    "8. What do you mean by training and testing a dataset?\n",
    "\n",
    "    Training: The model learns patterns from the training dataset.\n",
    "\n",
    "    Testing: The model is evaluated on unseen data to test its performance."
   ]
  },
  {
   "cell_type": "markdown",
   "id": "2d5bb5f0",
   "metadata": {},
   "source": [
    "9. What is sklearn.preprocessing?\n",
    "    \n",
    "    sklearn.preprocessing is a module in scikit-learn used for data preprocessing tasks like scaling, normalization, and encoding categorical variables."
   ]
  },
  {
   "cell_type": "markdown",
   "id": "db4c6cfa",
   "metadata": {},
   "source": [
    "10. What is a Test set?\n",
    "\n",
    "    A test set is a portion of the data used after training to evaluate how well the model performs on unseen data."
   ]
  },
  {
   "cell_type": "markdown",
   "id": "96dbbf37",
   "metadata": {},
   "source": [
    "11. How do we split data for model fitting (training and testing) in Python?\n",
    "\n",
    "    from sklearn.model_selection import train_test_split\n",
    "    \n",
    "    X_train, X_test, y_train, y_test = train_test_split(X, y, test_size=0.2, random_state=42)\n",
    "\n",
    "    This splits 80% of data for training and 20% for testing."
   ]
  },
  {
   "cell_type": "markdown",
   "id": "062e7188",
   "metadata": {},
   "source": [
    "12. How do you approach a Machine Learning problem?\n",
    "\n",
    "    To approach a machine learning problem, follow these steps:\n",
    "\n",
    "    Define the Problem: Understand the business or research problem.\n",
    "\n",
    "    Collect Data: Gather relevant data.\n",
    "\n",
    "    Clean Data: Handle missing values, outliers, and errors.\n",
    "\n",
    "    Perform EDA: Visualize and understand the dataset.\n",
    "\n",
    "    Feature Engineering: Transform variables to enhance performance.\n",
    "\n",
    "    Split Data: Create training and test sets.\n",
    "\n",
    "    Select Model: Choose appropriate ML algorithms.\n",
    "\n",
    "    Train Model: Fit the model on training data.\n",
    "\n",
    "    Evaluate Model: Test on the test set using metrics.\n",
    "\n",
    "    Tune Model: Use techniques like cross-validation and hyperparameter tuning.\n",
    "\n",
    "    Deploy: Use the model in production."
   ]
  },
  {
   "cell_type": "markdown",
   "id": "eb471d46",
   "metadata": {},
   "source": [
    "13. Why do we have to perform EDA before fitting a model to the data?\n",
    "                    \n",
    "    EDA (Exploratory Data Analysis) is essential because:\n",
    "\n",
    "    It helps identify missing values and outliers.\n",
    "\n",
    "    It shows the distribution of variables.\n",
    "\n",
    "    It reveals relationships between features.\n",
    "\n",
    "    It uncovers data quality issues.\n",
    "\n",
    "    It helps in choosing appropriate preprocessing and modeling steps.\n",
    "    Without EDA, one might feed poor-quality data into a model, leading to unreliable results."
   ]
  },
  {
   "cell_type": "markdown",
   "id": "22288cc2",
   "metadata": {},
   "source": [
    "14. What is correlation?\n",
    "\n",
    "    Correlation is a statistical measure that expresses the degree to which two variables move in relation to each other. A high correlation means the variables move together, while a low correlation means they move independently. It ranges from -1 (perfect negative) to +1 (perfect positive).\n",
    "\n"
   ]
  },
  {
   "cell_type": "markdown",
   "id": "ecfad705",
   "metadata": {},
   "source": [
    "15. What does negative correlation mean?\n",
    "    \n",
    "    A negative correlation implies that as one variable increases, the other decreases. For example, as the amount of exercise increases, the weight of a person may decrease (assuming a negative correlation)."
   ]
  },
  {
   "cell_type": "markdown",
   "id": "98b0295c",
   "metadata": {},
   "source": [
    "16. How can you find correlation between variables in Python?\n",
    "\n",
    "    df.corr()\n",
    "\n",
    "\n",
    "\n",
    "This shows a correlation matrix for numeric variables in a DataFrame."
   ]
  },
  {
   "cell_type": "markdown",
   "id": "d2ca232b",
   "metadata": {},
   "source": [
    "17. What is causation? Explain difference between correlation and causation with an example.\n",
    "\n",
    "\n",
    "    Causation means that one variable directly affects another. Correlation simply means two variables are related.\n",
    "\n",
    "    Example:\n",
    "    Ice cream sales and drowning rates are correlated (both increase in summer), but one doesn’t cause the other.\n",
    "\n"
   ]
  },
  {
   "cell_type": "markdown",
   "id": "19777c4b",
   "metadata": {},
   "source": [
    "\n",
    "\n",
    "18. What is an Optimizer? What are different types of optimizers? Explain each with an example.\n",
    "\n",
    "    An optimizer updates the parameters of the model to minimize the loss.\n",
    "\n",
    "    SGD (Stochastic Gradient Descent): Updates weights using individual samples.\n",
    "\n",
    "    Adam: Adaptive learning rate, combines momentum and RMSprop.\n",
    "\n",
    "    RMSprop: Uses moving average of squared gradients.\n",
    "    \n",
    "example:\n",
    "\n",
    "    from tensorflow.keras.optimizers import Adam\n",
    "    \n",
    "    optimizer = Adam(learning_rate=0.001)"
   ]
  },
  {
   "cell_type": "markdown",
   "id": "3e9e7ad5",
   "metadata": {},
   "source": [
    "19. What is sklearn.linear_model?\n",
    "    \n",
    "    A module in scikit-learn that includes models like Linear Regression, Logistic Regression, Ridge, Lasso, etc."
   ]
  },
  {
   "cell_type": "markdown",
   "id": "d74ec0d8",
   "metadata": {},
   "source": [
    "20. What does model.fit() do? What arguments must be given?\n",
    "    \n",
    "    Trains the model on training data.\n",
    "\n",
    "implementation:\n",
    "\n",
    "    model.fit(X_train, y_train)\n",
    "\n",
    "Arguments: Feature data and target values.\n",
    "\n"
   ]
  },
  {
   "cell_type": "markdown",
   "id": "7b6ff25b",
   "metadata": {},
   "source": [
    "21. What does model.predict() do? What arguments must be given?\n",
    "\n",
    "    Makes predictions based on the input data.\n",
    "\n",
    "implementation:\n",
    "\n",
    "    y_pred = model.predict(X_test)\n",
    "\n",
    "Argument: Feature data."
   ]
  },
  {
   "cell_type": "markdown",
   "id": "a97724dc",
   "metadata": {},
   "source": [
    "22. What is feature scaling? How does it help in Machine Learning?\n",
    "\n",
    "\n",
    "    Feature scaling brings all variables to a similar scale. It helps algorithms that rely on distance measures (like KNN, SVM) to perform better."
   ]
  },
  {
   "cell_type": "markdown",
   "id": "d327a9c0",
   "metadata": {},
   "source": [
    "23. How do we perform scaling in Python?\n",
    "\n",
    "--\n",
    "    \n",
    "    from sklearn.preprocessing import StandardScaler\n",
    "    scaler = StandardScaler()\n",
    "    X_scaled = scaler.fit_transform(X)"
   ]
  },
  {
   "cell_type": "markdown",
   "id": "67a2ddcf",
   "metadata": {},
   "source": [
    "24. What is sklearn.preprocessing?\n",
    "\n",
    "    sklearn.preprocessing is a submodule in scikit-learn used for preprocessing tasks such as:\n",
    "\n",
    "    Encoding categorical variables\n",
    "\n",
    "    Scaling numerical data\n",
    "\n",
    "    Binarizing data\n",
    "\n",
    "    Polynomial feature expansion"
   ]
  },
  {
   "cell_type": "markdown",
   "id": "b9164e96",
   "metadata": {},
   "source": [
    "25. Explain data encoding?\n",
    "\n",
    "    Data encoding converts categorical variables into a numeric format.\n",
    "\n",
    "    Label Encoding: Assigns each category a unique number.\n",
    "\n",
    "    One-Hot Encoding: Binary columns for each category."
   ]
  },
  {
   "cell_type": "markdown",
   "id": "3b16032e",
   "metadata": {},
   "source": []
  }
 ],
 "metadata": {
  "kernelspec": {
   "display_name": "Python 3",
   "language": "python",
   "name": "python3"
  },
  "language_info": {
   "codemirror_mode": {
    "name": "ipython",
    "version": 3
   },
   "file_extension": ".py",
   "mimetype": "text/x-python",
   "name": "python",
   "nbconvert_exporter": "python",
   "pygments_lexer": "ipython3",
   "version": "3.13.0"
  }
 },
 "nbformat": 4,
 "nbformat_minor": 5
}
