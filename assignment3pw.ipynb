{
  "nbformat": 4,
  "nbformat_minor": 0,
  "metadata": {
    "colab": {
      "provenance": []
    },
    "kernelspec": {
      "name": "python3",
      "display_name": "Python 3"
    },
    "language_info": {
      "name": "python"
    }
  },
  "cells": [
    {
      "cell_type": "markdown",
      "source": [
        "THEORY QUESTIONS\n"
      ],
      "metadata": {
        "id": "n-6-H_1tBuAy"
      }
    },
    {
      "cell_type": "markdown",
      "source": [
        " 1. What is the difference between a function and a method in Python?\n",
        "    *Function is a block of code that performs a task and can be called independently whereas, Method is a function that is associated with an object.\n",
        "\n"
      ],
      "metadata": {
        "id": "vBLmTL2_Bx6d"
      }
    },
    {
      "cell_type": "code",
      "execution_count": null,
      "metadata": {
        "colab": {
          "base_uri": "https://localhost:8080/",
          "height": 53
        },
        "id": "KCi0jmwCAzCm",
        "outputId": "91ce89c7-24cd-4a29-bb2f-11413c57b86b"
      },
      "outputs": [
        {
          "output_type": "stream",
          "name": "stdout",
          "text": [
            "Hello\n"
          ]
        },
        {
          "output_type": "execute_result",
          "data": {
            "text/plain": [
              "'HELLO'"
            ],
            "application/vnd.google.colaboratory.intrinsic+json": {
              "type": "string"
            }
          },
          "metadata": {},
          "execution_count": 2
        }
      ],
      "source": [
        "#example:\n",
        "#function\n",
        "def greeting():\n",
        "  print(\"Hello\")\n",
        "greeting()\n",
        "\n",
        "#method\n",
        "s = \"hello\"\n",
        "s.upper()\n",
        "\n"
      ]
    },
    {
      "cell_type": "markdown",
      "source": [
        " 2. Explain the concept of function arguments and parameters in Python.\n",
        "\n",
        "    Parameters are variables listed in the function definition.\n",
        "    Arguments are values passed to the function when called.\n"
      ],
      "metadata": {
        "id": "0je4ui3UBph6"
      }
    },
    {
      "cell_type": "code",
      "source": [
        "#example:\n",
        "def add(a, b):     # a, b are parameters\n",
        "    return a + b\n",
        "\n",
        "add(3, 5)          # 3, 5 are arguments"
      ],
      "metadata": {
        "colab": {
          "base_uri": "https://localhost:8080/"
        },
        "id": "iuLBt89sCq0w",
        "outputId": "e5365801-6397-41fd-aca0-2e8751410f2d"
      },
      "execution_count": null,
      "outputs": [
        {
          "output_type": "execute_result",
          "data": {
            "text/plain": [
              "8"
            ]
          },
          "metadata": {},
          "execution_count": 3
        }
      ]
    },
    {
      "cell_type": "markdown",
      "source": [
        " 3. What are the different ways to define and call a function in Python?\n",
        "    Define using def or lambda.\n",
        "    Call by function name with parentheses and arguments.\n",
        "\n",
        "    Examples:\n",
        "    \n",
        "    def greet(name):\n",
        "\n",
        "    return f\"Hello, {name}\"\n",
        "\n",
        "    greet(\"Alice\")\n",
        "    # Lambda\n",
        "    square = lambda x: x**2\n",
        "    \n",
        "    square(4)\n"
      ],
      "metadata": {
        "id": "hltnP3mdCxRK"
      }
    },
    {
      "cell_type": "markdown",
      "source": [
        " 4. What is the purpose of the return statement in a Python function?\n",
        "\n",
        "    It ends function execution and optionally sends back a value.\n",
        "    Example:\n",
        "\n",
        "    def add(x, y):\n",
        "\n",
        "      return x + y"
      ],
      "metadata": {
        "id": "ezBW5rZEDSsV"
      }
    },
    {
      "cell_type": "markdown",
      "source": [
        " 5. What are iterators in Python and how do they differ from iterables?\n",
        "\n",
        "    Iterable: An object that can return an iterator (e.g., list, tuple).\n",
        "\n",
        "    Iterator: An object with Next() and iter() methods.\n",
        "\n",
        "    Example:\n",
        "\n",
        "    lst = [1, 2, 3]         # Iterable\n",
        "    it = iter(lst)          # Iterator\n",
        "    print(next(it))\n",
        "\n",
        "\n",
        "6. Explain the concept of generators in Python and how they are defined.\n",
        "    A generator is a function that uses yield to return values one at a time as an iterator.\n",
        "\n",
        "    Example:\n",
        "    def gen():\n",
        "\n",
        "    for i in range(3):\n",
        "\n",
        "      yield i\n",
        "\n",
        " 7. What are the advantages of using generators over regular functions?\n",
        "\n",
        "    Memory efficient (no need to store entire sequences)\n",
        "\n",
        "    Lazy evaluation (values produced on the fly)\n",
        "\n",
        "    Better for large datasets or infinite sequences\n",
        "\n",
        " 8. What is a lambda function in Python and when is it typically used?\n",
        "  \n",
        "    lambda functions are anonymous function which are used for quick operations also known as short functions\n",
        "\n",
        "    example:\n",
        "    sqaure=lambda x:x*x\n",
        "    sqaure(5)\n",
        "\n",
        "  9. Explain the purpose and usage of the `map()` function in Python.\n",
        "      \n",
        "    Map function is used to apply a function to every element of the iterable\n",
        "\n",
        "    example:\n",
        "\n",
        "    l=[1,2,3,4]\n",
        "\n",
        "    list(map(square,l))\n",
        "\n",
        " 10. What is the difference between `map()`, `reduce()`, and `filter()` functions in Python?\n",
        "\n",
        "    map- it is used for applying a function to each element of an iterable and returns a new iterable with the result\n",
        "\n",
        "    reduce- it is used to apply function to pair of elements and reducing the iterable into a single value\n",
        "\n",
        "    filter- Only return those element of an iterable if they satisfy the given condition\n",
        "\n",
        "\n",
        "\n",
        "\n",
        "\n",
        "\n"
      ],
      "metadata": {
        "id": "4pIKhx7tDTM3"
      }
    },
    {
      "cell_type": "markdown",
      "source": [
        "11. Using pen & Paper write the internal mechanism for sum operation using  reduce function on this list:[47,11,42,13];\n",
        "\n",
        "\n",
        "\n",
        "(answer is uploaded on word file)"
      ],
      "metadata": {
        "id": "yi0EfU2lGsOa"
      }
    },
    {
      "cell_type": "markdown",
      "source": [
        "practical questions"
      ],
      "metadata": {
        "id": "0jTPbd0tI5Nt"
      }
    },
    {
      "cell_type": "code",
      "source": [
        "#1.\n",
        "def even_num(n):\n",
        "    return sum(i for i in n if i % 2 == 0)\n"
      ],
      "metadata": {
        "id": "G2usTLiyGV0N"
      },
      "execution_count": 6,
      "outputs": []
    },
    {
      "cell_type": "code",
      "source": [
        "#2.\n",
        "def rev_str(s):\n",
        "    return s[::-1]\n"
      ],
      "metadata": {
        "id": "FFc7O0kJJLe7"
      },
      "execution_count": 7,
      "outputs": []
    },
    {
      "cell_type": "code",
      "source": [
        "#3.\n",
        "def square_list(numbers):\n",
        "    return [x**2 for x in numbers]\n"
      ],
      "metadata": {
        "id": "AsF0mLMUJU5G"
      },
      "execution_count": 8,
      "outputs": []
    },
    {
      "cell_type": "code",
      "source": [
        "#4\n",
        "def is_prime(n):\n",
        "    if n < 2:\n",
        "        return False\n",
        "    for i in range(2, int(n**0.5) + 1):\n",
        "        if n % i == 0:\n",
        "            return False\n",
        "    return True\n"
      ],
      "metadata": {
        "id": "RjsV9iseJXQj"
      },
      "execution_count": 9,
      "outputs": []
    },
    {
      "cell_type": "code",
      "source": [
        "#6\n",
        "def power_of_2(exp):\n",
        "    for i in range(exp + 1):\n",
        "        yield 2 ** i\n"
      ],
      "metadata": {
        "id": "XdDxXCB9JccN"
      },
      "execution_count": 10,
      "outputs": []
    },
    {
      "cell_type": "code",
      "source": [
        "#7\n",
        "def read_lines(file_path):\n",
        "    with open(file_path) as f:\n",
        "        for line in f:\n",
        "            yield line.strip()\n"
      ],
      "metadata": {
        "id": "Zk66DsuZJ_Hv"
      },
      "execution_count": 11,
      "outputs": []
    },
    {
      "cell_type": "code",
      "source": [
        "#8\n",
        "data = [(1, 5), (2, 3), (4, 1)]\n",
        "sorted_data = sorted(data, key=lambda x: x[1])\n"
      ],
      "metadata": {
        "id": "OiUsYy2KKCHw"
      },
      "execution_count": 12,
      "outputs": []
    },
    {
      "cell_type": "code",
      "source": [
        "#9\n",
        "celsius = [0, 20, 37, 100]\n",
        "fahrenheit = list(map(lambda c: (c * 9/5) + 32, celsius))\n"
      ],
      "metadata": {
        "id": "SIUaJxTXKDwu"
      },
      "execution_count": 13,
      "outputs": []
    },
    {
      "cell_type": "code",
      "source": [
        "#10\n",
        "def remove_vowels(text):\n",
        "    return ''.join(filter(lambda c: c.lower() not in 'aeiou', text))\n"
      ],
      "metadata": {
        "id": "l0SfrEwPKGua"
      },
      "execution_count": 14,
      "outputs": []
    },
    {
      "cell_type": "code",
      "source": [
        "#11\n",
        "orders = [\n",
        "    [34567, \"Learning Python, Mark Lutz\", 4, 40.95],\n",
        "    [98762, \"Programming Python, Mark Lutz\", 5, 56.80],\n",
        "    [77226, \"Head First Python, Paul Barry\", 3, 32.95],\n",
        "    [88112, \"Einführung in Python3, Bernd Klein\", 3, 24.99]\n",
        "]\n",
        "\n",
        "result = list(map(lambda order: (order[0], round(order[2] * order[3] * 1.1 if order[2] * order[3] < 100 else order[2] * order[3], 2)),orders))\n"
      ],
      "metadata": {
        "id": "96XR7m0xKKLl"
      },
      "execution_count": 17,
      "outputs": []
    },
    {
      "cell_type": "code",
      "source": [],
      "metadata": {
        "id": "brjqIUheKMFK"
      },
      "execution_count": null,
      "outputs": []
    }
  ]
}