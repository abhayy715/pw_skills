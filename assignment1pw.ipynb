{
  "nbformat": 4,
  "nbformat_minor": 0,
  "metadata": {
    "colab": {
      "provenance": []
    },
    "kernelspec": {
      "name": "python3",
      "display_name": "Python 3"
    },
    "language_info": {
      "name": "python"
    }
  },
  "cells": [
    {
      "cell_type": "markdown",
      "source": [
        "ASSIGNMENT 1 DATA SCIENCE\n",
        "\n",
        "THEORETICAL QUESTIONS\n",
        "\n",
        "q1. What is Python, and why is it popular?\n",
        "    \n",
        "* Python is a high level, interpreted programming language which is easy to\n",
        "  understand and write.\n",
        "  \n",
        "  it is popular because of its simplicity and due to its large and active community of developers, extensive standard library\n",
        "\n",
        "q2. What is an interpreter in Python?\n",
        "\n",
        "* interpreter is a special program which executes the code line by line in    \n",
        "  python\n",
        "\n",
        "q3. What are pre-defined keywords in Python?\n",
        "\n",
        "* pre-defined keywords are reserved words in python which have special meanings\n",
        "  and can not be used as identifiers such as variable name or function name.\n",
        "\n",
        "q4. Can keywords be used as variable names?\n",
        "\n",
        "* No\n",
        "\n",
        "q5. What is mutability in Python?\n",
        "\n",
        "* when modifications can be applicable on objects or not are creating them.\n",
        "\n",
        "q6. Why are lists mutable, but tuples are immutable?\n",
        "\n",
        "* lists are designed as flexible containers whereas tuples are designed as fixed containers which make lists mutable and tuples immutable\n",
        "\n",
        "q7. What is the difference between “==” and “is” operators in Python?\n",
        "\n",
        "* \"==\" is equality operator which is used to check whether the values/content in two different variables are same whereas \"is\" operator is identity operator which checks if two variables are pointing to the exactly same object in memory..\n",
        "\n",
        "\n",
        "q8. What are logical operators in Python?\n",
        "\n",
        "* Logical operators are those which helps in making decisions in the code.\n",
        "\n",
        "q9. What is type casting in Python?\n",
        "* type casting (also know as type conversion) is used for converting one data type to another.\n",
        "\n",
        "q10. What is the difference between implicit and explicit type casting?\n",
        "* **implicit** type casting is performed automatically by the interpreter withou any explicit instruction from the programmer whereas the **explicit** type casting is performed when the programmer intentionally specifies the data type conversion.\n",
        "\n",
        "q11.  What is the purpose of conditional statements in Python?\n",
        "* Conditional statement is used for controlling the flow of execution by executing the code based on the evaluation of one and more conditions.\n",
        "\n",
        "q12. How does the elif statement work?\n",
        "* elif statment helps in checking multiple conditions in program when there are many different conditions to check.\n",
        "\n",
        "q13. What is the difference between for and while loops?\n",
        "* for loops iterates over a sequence whereas while loops until a condition is true.\n",
        "\n",
        "q14. Describe a scenario where a while loop is more suitable than a for loop?\n",
        "* while loop is more suitable than a for loop when we don't know how many times do we have to iterate the loop.\n",
        "\n",
        "  for example: Taking input from the user until we get the desired input from the user.\n",
        "\n",
        "\n",
        "\n"
      ],
      "metadata": {
        "id": "B0J_lKOotoca"
      }
    },
    {
      "cell_type": "markdown",
      "source": [
        "PRACTICAL QUESTIONS"
      ],
      "metadata": {
        "id": "AxmiSyRSS9mj"
      }
    },
    {
      "cell_type": "code",
      "source": [
        "# 1\n",
        "print(\"Hello, world!\")"
      ],
      "metadata": {
        "colab": {
          "base_uri": "https://localhost:8080/"
        },
        "id": "98oesY6LS1W2",
        "outputId": "783be060-6175-4b7f-8000-11f6627a1803"
      },
      "execution_count": 7,
      "outputs": [
        {
          "output_type": "stream",
          "name": "stdout",
          "text": [
            "Hello, world!\n"
          ]
        }
      ]
    },
    {
      "cell_type": "code",
      "source": [
        "#2\n",
        "name='abhay'\n",
        "age=20\n",
        "print(f\"my name is {name} and my age is {age}\")"
      ],
      "metadata": {
        "colab": {
          "base_uri": "https://localhost:8080/"
        },
        "id": "J48kdk5XTFUb",
        "outputId": "2010f766-6788-43c6-d87a-8d9ec8d777ef"
      },
      "execution_count": 11,
      "outputs": [
        {
          "output_type": "stream",
          "name": "stdout",
          "text": [
            "my name is abhay and my age is 20\n"
          ]
        }
      ]
    },
    {
      "cell_type": "code",
      "source": [
        "#3\n",
        "import keyword\n",
        "keywords=keyword.kwlist\n",
        "for keys in keywords:\n",
        "  print(keys)"
      ],
      "metadata": {
        "colab": {
          "base_uri": "https://localhost:8080/"
        },
        "id": "xgDG1F5GTtRB",
        "outputId": "b9e9dee8-0138-4ce9-b7e3-1997d950fbcd"
      },
      "execution_count": 22,
      "outputs": [
        {
          "output_type": "stream",
          "name": "stdout",
          "text": [
            "False\n",
            "None\n",
            "True\n",
            "and\n",
            "as\n",
            "assert\n",
            "async\n",
            "await\n",
            "break\n",
            "class\n",
            "continue\n",
            "def\n",
            "del\n",
            "elif\n",
            "else\n",
            "except\n",
            "finally\n",
            "for\n",
            "from\n",
            "global\n",
            "if\n",
            "import\n",
            "in\n",
            "is\n",
            "lambda\n",
            "nonlocal\n",
            "not\n",
            "or\n",
            "pass\n",
            "raise\n",
            "return\n",
            "try\n",
            "while\n",
            "with\n",
            "yield\n"
          ]
        }
      ]
    },
    {
      "cell_type": "code",
      "source": [
        "#4\n",
        "import keyword\n",
        "keywords=keyword.kwlist\n",
        "word=input(\"enter a word\")\n",
        "if word in keywords:\n",
        "  print(f\"{word} is a keyword\")\n",
        "else:\n",
        "  print(f\"{word} is not a keyword\")\n"
      ],
      "metadata": {
        "colab": {
          "base_uri": "https://localhost:8080/"
        },
        "id": "fuhmAg3iVFtp",
        "outputId": "5302c119-9ae6-4dbc-d233-613829161357"
      },
      "execution_count": 23,
      "outputs": [
        {
          "output_type": "stream",
          "name": "stdout",
          "text": [
            "enter a wordif\n",
            "if is a keyword\n"
          ]
        }
      ]
    },
    {
      "cell_type": "code",
      "source": [
        "# 5\n",
        "l1=[1,2,3,4,5]\n",
        "t1=(1,2,3,4,5)\n",
        "\n",
        "l1[4]=6\n",
        "# t1(4)=3 ##will give error\n",
        "print(l1)\n",
        "print(t1)\n"
      ],
      "metadata": {
        "colab": {
          "base_uri": "https://localhost:8080/"
        },
        "id": "NIk6ujDeV8wI",
        "outputId": "9a2a1a60-ec52-4875-bdf8-eceba29cb370"
      },
      "execution_count": 38,
      "outputs": [
        {
          "output_type": "stream",
          "name": "stdout",
          "text": [
            "[1, 2, 3, 4, 6]\n",
            "(1, 2, 3, 4, 5)\n"
          ]
        }
      ]
    },
    {
      "cell_type": "code",
      "source": [
        "#6\n",
        "#took help of gemini for understanding the problem statement\n",
        "def args(a,b): #a=immutable argument,b=mutable argument\n",
        "  print(\"Inside the function:\")\n",
        "  print(f\"  Initial immutable_argument: {a}\")\n",
        "  print(f\"  Initial mutable_argument: {b}\")\n",
        "  a = a + 1\n",
        "  print(f\"  Modified immutable_argument: {a}\")\n",
        "  b.append(4)\n",
        "  print(f\"  Modified mutable_argument: {b}\")\n",
        "\n",
        "\n",
        "num = 10\n",
        "l1 = [1, 2, 3]\n",
        "print(\"Outside the function (before call):\")\n",
        "print(f\"  num: {num}\")\n",
        "print(f\"  my_list: {l1}\")\n",
        "args(num,l1)\n",
        "print(\"Outside the function (after call):\")\n",
        "print(f\"  num: {num}\")\n",
        "print(f\"  my_list: {l1}\")"
      ],
      "metadata": {
        "colab": {
          "base_uri": "https://localhost:8080/"
        },
        "id": "WskkHqEKWQ-a",
        "outputId": "689ed517-c56c-44f8-a6c6-727dc60b5118"
      },
      "execution_count": 3,
      "outputs": [
        {
          "output_type": "stream",
          "name": "stdout",
          "text": [
            "Outside the function (before call):\n",
            "  num: 10\n",
            "  my_list: [1, 2, 3]\n",
            "Inside the function:\n",
            "  Initial immutable_argument: 10\n",
            "  Initial mutable_argument: [1, 2, 3]\n",
            "  Modified immutable_argument: 11\n",
            "  Modified mutable_argument: [1, 2, 3, 4]\n",
            "Outside the function (after call):\n",
            "  num: 10\n",
            "  my_list: [1, 2, 3, 4]\n"
          ]
        }
      ]
    },
    {
      "cell_type": "code",
      "source": [
        "#7\n",
        "num1 = float(input(\"Enter the first number: \"))\n",
        "num2 = float(input(\"Enter the second number: \"))\n",
        "addition = num1 + num2\n",
        "subtraction = num1 - num2\n",
        "multiplication = num1 * num2\n",
        "division = num1 / num2\n",
        "print(\"Addition:\", addition)\n",
        "print(\"Subtraction:\", subtraction)\n",
        "print(\"Multiplication:\", multiplication)\n",
        "print(\"Division:\", division)"
      ],
      "metadata": {
        "colab": {
          "base_uri": "https://localhost:8080/"
        },
        "id": "pmU88usBboM5",
        "outputId": "1ecf1aff-c44a-476f-93cf-27a96b60118b"
      },
      "execution_count": 6,
      "outputs": [
        {
          "output_type": "stream",
          "name": "stdout",
          "text": [
            "Enter the first number: 25\n",
            "Enter the second number: 22\n",
            "Addition: 47.0\n",
            "Subtraction: 3.0\n",
            "Multiplication: 550.0\n",
            "Division: 1.1363636363636365\n"
          ]
        }
      ]
    },
    {
      "cell_type": "code",
      "source": [
        "#8\n",
        "a=int(input(\"Enter your age for applying for the license: \"))\n",
        "if(a>=18 and a<=50):\n",
        "  print(\"YOU ARE ELIGIBLE FOR DRIVING LICENSE\")\n",
        "else:\n",
        "  print(\"YOU ARE NOT ELIGIBLE FOR DRIVING LICENSE\")"
      ],
      "metadata": {
        "colab": {
          "base_uri": "https://localhost:8080/"
        },
        "id": "XZUbvYKqcshz",
        "outputId": "0cf44aa1-42e1-4a14-a574-b3729785e5fa"
      },
      "execution_count": 9,
      "outputs": [
        {
          "output_type": "stream",
          "name": "stdout",
          "text": [
            "Enter your age for applying for the license: 555\n",
            "YOU ARE NOT ELIGIBLE FOR DRIVING LICENSE\n"
          ]
        }
      ]
    },
    {
      "cell_type": "code",
      "source": [
        "#9\n",
        "a=input()\n",
        "i=int(a)\n",
        "print(i)\n",
        "j=float(a)\n",
        "print(j)\n",
        "k=bool(a)\n",
        "print(k)"
      ],
      "metadata": {
        "colab": {
          "base_uri": "https://localhost:8080/"
        },
        "id": "ucnB_EaNdfjR",
        "outputId": "f1261d53-2119-46df-d82f-8b04cd0609c0"
      },
      "execution_count": 12,
      "outputs": [
        {
          "output_type": "stream",
          "name": "stdout",
          "text": [
            "12\n",
            "12\n",
            "12.0\n",
            "True\n"
          ]
        }
      ]
    },
    {
      "cell_type": "code",
      "source": [
        "#10\n",
        "data=[123,\"123\",123.4,True]\n",
        "for items in data:\n",
        "  if isinstance(items,bool):\n",
        "    print(int(items))\n",
        "  elif isinstance(items,int):\n",
        "    print(int(items))\n",
        "  elif isinstance(items,float):\n",
        "    print(int(items))\n",
        "  elif isinstance(items,str):\n",
        "    print(int(items))\n",
        "print(\"-\"*20)\n",
        "for items in data:\n",
        "  if isinstance(items,bool):\n",
        "    print(float(items))\n",
        "  elif isinstance(items,int):\n",
        "    print(float(items))\n",
        "  elif isinstance(items,float):\n",
        "    print(float(items))\n",
        "  elif isinstance(items,str):\n",
        "    print(float(items))\n",
        "print(\"-\"*20)\n",
        "for items in data:\n",
        "  if isinstance(items,bool):\n",
        "    print(bool(items))\n",
        "  elif isinstance(items,int):\n",
        "    print(bool(items))\n",
        "  elif isinstance(items,float):\n",
        "    print(bool(items))\n",
        "  elif isinstance(items,str):\n",
        "    print(bool(items))\n",
        "print(\"-\"*20)\n",
        "for items in data:\n",
        "  if isinstance(items,bool):\n",
        "    print(str(items))\n",
        "  elif isinstance(items,int):\n",
        "    print(str(items))\n",
        "  elif isinstance(items,float):\n",
        "    print(str(items))\n",
        "  elif isinstance(items,str):\n",
        "    print(str(items))"
      ],
      "metadata": {
        "colab": {
          "base_uri": "https://localhost:8080/"
        },
        "id": "V-t2XzrwfMsp",
        "outputId": "9c66f6f6-9cf8-423d-e5fc-950aa8fbaa5b"
      },
      "execution_count": 31,
      "outputs": [
        {
          "output_type": "stream",
          "name": "stdout",
          "text": [
            "123\n",
            "123\n",
            "123\n",
            "1\n",
            "--------------------\n",
            "123.0\n",
            "123.0\n",
            "123.4\n",
            "1.0\n",
            "--------------------\n",
            "True\n",
            "True\n",
            "True\n",
            "True\n",
            "--------------------\n",
            "123\n",
            "123\n",
            "123.4\n",
            "True\n"
          ]
        }
      ]
    },
    {
      "cell_type": "code",
      "source": [
        "#11\n",
        "a=int(input(\"Enter any number: \"))\n",
        "if(a>0):\n",
        "  print(\"Entered number is a positive number\")\n",
        "elif(a==0):\n",
        "  print(\"Entered number is zero\")\n",
        "else:\n",
        "  print(\"Entered number is a negative number\")"
      ],
      "metadata": {
        "colab": {
          "base_uri": "https://localhost:8080/"
        },
        "id": "LUMD4yfpjFbc",
        "outputId": "99b287e9-8975-4bb0-d271-873eb4a190eb"
      },
      "execution_count": 38,
      "outputs": [
        {
          "output_type": "stream",
          "name": "stdout",
          "text": [
            "Enter any number: 0\n",
            "Entered number is zero\n"
          ]
        }
      ]
    },
    {
      "cell_type": "code",
      "source": [
        "#12\n",
        "for i in range(1,11):\n",
        "  print(i)"
      ],
      "metadata": {
        "colab": {
          "base_uri": "https://localhost:8080/"
        },
        "id": "xftPkSZljVxT",
        "outputId": "ad8374b3-96e5-4d65-a73c-6cc576ebe2a2"
      },
      "execution_count": 39,
      "outputs": [
        {
          "output_type": "stream",
          "name": "stdout",
          "text": [
            "1\n",
            "2\n",
            "3\n",
            "4\n",
            "5\n",
            "6\n",
            "7\n",
            "8\n",
            "9\n",
            "10\n"
          ]
        }
      ]
    },
    {
      "cell_type": "code",
      "source": [
        "sum=0\n",
        "for i in range(1,51):\n",
        "  if(i%2==0):\n",
        "    sum=sum+i\n",
        "print(sum)"
      ],
      "metadata": {
        "colab": {
          "base_uri": "https://localhost:8080/"
        },
        "id": "XhEqfuctjx-8",
        "outputId": "f358db7d-877b-4369-f5a9-c4465db0b745"
      },
      "execution_count": 40,
      "outputs": [
        {
          "output_type": "stream",
          "name": "stdout",
          "text": [
            "650\n"
          ]
        }
      ]
    },
    {
      "cell_type": "code",
      "source": [
        "a=input(\"Enter a string:\")\n",
        "rev_a=\"\"\n",
        "n=len(a)-1\n",
        "while(n>=0):\n",
        "  rev_a+=a[n]\n",
        "  n=n-1\n",
        "print(rev_a)"
      ],
      "metadata": {
        "colab": {
          "base_uri": "https://localhost:8080/"
        },
        "id": "b7G_73rckDoc",
        "outputId": "70aafb86-6b21-4c75-904a-bf72963cac63"
      },
      "execution_count": 47,
      "outputs": [
        {
          "output_type": "stream",
          "name": "stdout",
          "text": [
            "Enter a string:abhay\n",
            "yahba\n"
          ]
        }
      ]
    },
    {
      "cell_type": "code",
      "source": [
        "a=int(input(\"Enter a number: \"))\n",
        "factorial=1\n",
        "for i in range(a,0,-1):\n",
        "  factorial=factorial*i\n",
        "print(factorial)\n"
      ],
      "metadata": {
        "colab": {
          "base_uri": "https://localhost:8080/"
        },
        "id": "nWOqXRBWlceC",
        "outputId": "b3b7b09a-b093-42af-dfff-8f2f4f82276b"
      },
      "execution_count": 53,
      "outputs": [
        {
          "output_type": "stream",
          "name": "stdout",
          "text": [
            "Enter a number: 3\n",
            "6\n"
          ]
        }
      ]
    }
  ]
}