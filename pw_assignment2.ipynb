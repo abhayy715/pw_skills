{
  "nbformat": 4,
  "nbformat_minor": 0,
  "metadata": {
    "colab": {
      "provenance": []
    },
    "kernelspec": {
      "name": "python3",
      "display_name": "Python 3"
    },
    "language_info": {
      "name": "python"
    }
  },
  "cells": [
    {
      "cell_type": "markdown",
      "source": [
        "1. What are data structures, and why are they important?\n",
        "\n",
        "  Data structures are ways of organizing and storing the data so that it can be accessed and modified easily and effieciently.\n",
        "  They are important because it accelerate the efficiency and performance of the program and it eases data manipulation\n",
        "2. Explain the difference between mutable and immutable data types with   \n",
        "  examples.\n",
        "\n",
        "  Mutable data types- Mutable are those data types which can be changed after creation for example lists,dictionaries\n",
        "  Immutable data types- Those datatypes which are not changeable after their creation such as tuples,strings\n",
        "\n",
        "3. What are the main differences between lists and tuples in Python?\n",
        "\n",
        "  Lists are mutable and are for dynamic data wherease tuples are immutable and are for fixed data\n",
        "\n",
        "4. Describe how dictionaries store data.\n",
        "\n",
        "  Dictionaries stores data in the form of key-value pairs.\n",
        "\n",
        "5. Why might you use a set instead of a list in Python?\n",
        "\n",
        "  We use set instead of a list because in sets no duplication is allowed so in sets every element is unique also sets are ideal for membership and set operations such are union and intersection\n",
        "\n",
        "6. What is a string in Python, and how is it different from a list?\n",
        "\n",
        "  A string is an immutable data type and a sequence of characters whereas lists are muttable and are the collection of any data types such as(int,float,string and a list itself too)\n",
        "\n",
        "7. How do tuples ensure data integrity in Python?\n",
        "\n",
        "  tuples are immutable in nature and there cannot be any change after its creation which makes them ideal for representing fixed data\n",
        "\n",
        "8. What is a hash table, and how does it relate to dictionaries in Python?\n",
        "\n",
        "  Hash table is a data structure in python which maps key to the value using hash function.\n",
        "  Dictionaries are implemented using hash tables\n",
        "\n",
        "9. Can lists contain different data types in Python?\n",
        "\n",
        "  Yes\n",
        "\n",
        "10. Explain why strings are immutable in Python.\n",
        "  Immutability inproves data security, thread safety and allows hashing for being used in dictionaries as keys.\n",
        "\n",
        "11. What advantages do dictionaries offer over lists for certain tasks?\n",
        "  \n",
        "  In list we access the elements using their indexes but in dictionaries we can access a element by using the key we have assigned to that element.\n",
        "\n",
        "12. Describe a scenario where using a tuple would be preferable over a list.\n",
        "\n",
        "  Records or passwords\n",
        "\n",
        "13. How do sets handle duplicate values in Python?\n",
        "\n",
        "  Set automatically discards the duplicate values from it\n",
        "\n",
        "14. How does the “in” keyword work differently for lists and dictionaries?\n",
        "\n",
        "  In a list, it checks for the presence of a value whereas in dictionary, it checks for the presence of a key.\n",
        "\n",
        "15. Can you modify the elements of a tuple? Explain why or why not.\n",
        "\n",
        "  No, as tuples are immutable. Once created, their elements cannot be changed.\n",
        "\n",
        "16. What is a nested dictionary, and give an example of its use case?\n",
        "\n",
        "  A dictionary inside another dictionary.\n",
        "\n",
        "17. Describe the time complexity of accessing elements in a dictionary.\n",
        "\n",
        "  (took help of gemini as this is not covered neither in lecture nor in notes/summary)\n",
        "\n",
        "  Average case: O(1) (constant time)\n",
        "  Worst case: O(n) due to hash collisions.\n",
        "\n",
        "18. In what situations are lists preferred over dictionaries?\n",
        "\n",
        "  When there is a simple sequence of data and there is no need for assigning keys for the values\n",
        "\n",
        "19. Why are dictionaries considered unordered, and how does that affect data retrieval?\n",
        "\n",
        "  Dictionaries considered unordered as the values in dictionaries are accessed through their keys not through the indexes.\n",
        "\n",
        "20. Explain the difference between a list and a dictionary in terms of data retrieval.\n",
        "\n",
        "  list access the values through indexes whereas dictionaries access through keys\n",
        "  \n"
      ],
      "metadata": {
        "id": "DApshdsYQCmT"
      }
    },
    {
      "cell_type": "markdown",
      "source": [
        "PRACTICAL QUESTIONS"
      ],
      "metadata": {
        "id": "oYPTc81kZFWY"
      }
    },
    {
      "cell_type": "markdown",
      "source": [
        "1. Create a string with your name and print it."
      ],
      "metadata": {
        "id": "lKr_NqL_ZDbf"
      }
    },
    {
      "cell_type": "code",
      "source": [
        "NAME=\"ABHAY\"\n",
        "print(NAME)"
      ],
      "metadata": {
        "colab": {
          "base_uri": "https://localhost:8080/"
        },
        "id": "FTlG09WLZIFF",
        "outputId": "135378c4-ab31-433f-fb23-91c26647f040"
      },
      "execution_count": null,
      "outputs": [
        {
          "output_type": "stream",
          "name": "stdout",
          "text": [
            "ABHAY\n"
          ]
        }
      ]
    },
    {
      "cell_type": "markdown",
      "source": [
        "2. Find the length of the string 'Hello World'."
      ],
      "metadata": {
        "id": "fBhWhq-zZPMu"
      }
    },
    {
      "cell_type": "code",
      "source": [
        "a=\"hello world\"\n",
        "print(len(a))"
      ],
      "metadata": {
        "colab": {
          "base_uri": "https://localhost:8080/"
        },
        "id": "Q9ScS72qZEOc",
        "outputId": "9f2fdf55-2e48-4a23-c57c-a6c53c51acbb"
      },
      "execution_count": null,
      "outputs": [
        {
          "output_type": "stream",
          "name": "stdout",
          "text": [
            "11\n"
          ]
        }
      ]
    },
    {
      "cell_type": "markdown",
      "source": [
        "3. Slice the first 3 characters from the string 'Python Programming'."
      ],
      "metadata": {
        "id": "C6vT6_cHZWYy"
      }
    },
    {
      "cell_type": "code",
      "source": [
        "b='python programming'\n",
        "print(b[:3])"
      ],
      "metadata": {
        "colab": {
          "base_uri": "https://localhost:8080/"
        },
        "id": "VGDtng94ZX-m",
        "outputId": "31a5aa40-bff3-4a38-e77a-f72eb996e958"
      },
      "execution_count": null,
      "outputs": [
        {
          "output_type": "stream",
          "name": "stdout",
          "text": [
            "pyt\n"
          ]
        }
      ]
    },
    {
      "cell_type": "markdown",
      "source": [
        "4. Convert the string \"hello\" to uppercase."
      ],
      "metadata": {
        "id": "zQ9lkcLjZUEZ"
      }
    },
    {
      "cell_type": "code",
      "source": [
        "s = \"hello\"\n",
        "print(s.upper())\n"
      ],
      "metadata": {
        "colab": {
          "base_uri": "https://localhost:8080/"
        },
        "id": "JYGxIkWhY_M0",
        "outputId": "25f29346-f5fd-45de-aeb7-6dc88d97f3ca"
      },
      "execution_count": null,
      "outputs": [
        {
          "output_type": "stream",
          "name": "stdout",
          "text": [
            "HELLO\n"
          ]
        }
      ]
    },
    {
      "cell_type": "markdown",
      "source": [
        "5. Replace the word \"apple\" with \"orange\" in the string \"I like apple\"."
      ],
      "metadata": {
        "id": "0psskX3uZtcl"
      }
    },
    {
      "cell_type": "code",
      "source": [
        "n=\"I like apple\"\n",
        "print(n.replace(\"apple\",\"orange\"))"
      ],
      "metadata": {
        "colab": {
          "base_uri": "https://localhost:8080/"
        },
        "id": "y8Z1NipUZuC2",
        "outputId": "ad9fa2c7-473b-43f2-a4d9-9e9e9608dd07"
      },
      "execution_count": null,
      "outputs": [
        {
          "output_type": "stream",
          "name": "stdout",
          "text": [
            "I like orange\n"
          ]
        }
      ]
    },
    {
      "cell_type": "markdown",
      "source": [
        "6. Create a list with numbers 1 to 5 and print it."
      ],
      "metadata": {
        "id": "9i6iKSDpZ8CO"
      }
    },
    {
      "cell_type": "code",
      "execution_count": null,
      "metadata": {
        "colab": {
          "base_uri": "https://localhost:8080/"
        },
        "id": "8siQdTcCNh_M",
        "outputId": "be166bc3-7840-44fc-b209-08e3a10681a3"
      },
      "outputs": [
        {
          "output_type": "stream",
          "name": "stdout",
          "text": [
            "[1, 2, 3, 4, 5]\n"
          ]
        }
      ],
      "source": [
        "numbers = [1, 2, 3, 4, 5]\n",
        "print(numbers)\n"
      ]
    },
    {
      "cell_type": "markdown",
      "source": [
        "7. Append the number 10 to the list [1, 2, 3, 4].\n"
      ],
      "metadata": {
        "id": "8qCUJBy51ssw"
      }
    },
    {
      "cell_type": "code",
      "source": [
        "number=[1,2,3,4]\n",
        "number.append(10)\n",
        "print(number)"
      ],
      "metadata": {
        "id": "xXeNHi-MZ-iz",
        "colab": {
          "base_uri": "https://localhost:8080/"
        },
        "outputId": "552a3166-9d71-445c-8940-f7cf97a728ec"
      },
      "execution_count": 3,
      "outputs": [
        {
          "output_type": "stream",
          "name": "stdout",
          "text": [
            "[1, 2, 3, 4, 10]\n"
          ]
        }
      ]
    },
    {
      "cell_type": "markdown",
      "source": [
        "8. Remove the number 3 from the list [1, 2, 3, 4, 5].\n"
      ],
      "metadata": {
        "id": "NuGmwLsT2xBG"
      }
    },
    {
      "cell_type": "code",
      "source": [
        "l=[1,2,3,4,5]\n",
        "l.remove(3)\n",
        "l"
      ],
      "metadata": {
        "colab": {
          "base_uri": "https://localhost:8080/"
        },
        "id": "VmjYlkHX2fe7",
        "outputId": "3fabb940-cf4a-4520-fdfb-b654f5bf8398"
      },
      "execution_count": 5,
      "outputs": [
        {
          "output_type": "execute_result",
          "data": {
            "text/plain": [
              "[1, 2, 4, 5]"
            ]
          },
          "metadata": {},
          "execution_count": 5
        }
      ]
    },
    {
      "cell_type": "markdown",
      "source": [
        "9. Access the second element in the list ['a', 'b', 'c']."
      ],
      "metadata": {
        "id": "tyHGAOyO26Ff"
      }
    },
    {
      "cell_type": "code",
      "source": [
        "li=['a', 'b', 'c']\n",
        "li[1]\n"
      ],
      "metadata": {
        "colab": {
          "base_uri": "https://localhost:8080/",
          "height": 36
        },
        "id": "ArVmtqtb22MM",
        "outputId": "1263fae0-9745-46fd-d28e-3d00e3743837"
      },
      "execution_count": 6,
      "outputs": [
        {
          "output_type": "execute_result",
          "data": {
            "text/plain": [
              "'b'"
            ],
            "application/vnd.google.colaboratory.intrinsic+json": {
              "type": "string"
            }
          },
          "metadata": {},
          "execution_count": 6
        }
      ]
    },
    {
      "cell_type": "markdown",
      "source": [
        "10. Reverse the list [10, 20, 30, 40, 50]."
      ],
      "metadata": {
        "id": "qWm6_PY_3ICR"
      }
    },
    {
      "cell_type": "code",
      "source": [
        "lit=[10, 20, 30, 40, 50]\n",
        "lit[::-1]"
      ],
      "metadata": {
        "colab": {
          "base_uri": "https://localhost:8080/"
        },
        "id": "J3d730Rk3AX-",
        "outputId": "f9ed5033-aff8-429f-cdfd-904caab03535"
      },
      "execution_count": 7,
      "outputs": [
        {
          "output_type": "execute_result",
          "data": {
            "text/plain": [
              "[50, 40, 30, 20, 10]"
            ]
          },
          "metadata": {},
          "execution_count": 7
        }
      ]
    },
    {
      "cell_type": "markdown",
      "source": [
        "11. Create a tuple with the elements 100, 200, 300 and print it."
      ],
      "metadata": {
        "id": "1t7ZypTf3W3E"
      }
    },
    {
      "cell_type": "code",
      "source": [
        "t=(100,200,300)\n",
        "t"
      ],
      "metadata": {
        "colab": {
          "base_uri": "https://localhost:8080/"
        },
        "id": "pTYjfCAO3R8N",
        "outputId": "dce7d2c1-dbf8-45ff-fec2-6769bb31235f"
      },
      "execution_count": 9,
      "outputs": [
        {
          "output_type": "execute_result",
          "data": {
            "text/plain": [
              "(100, 200, 300)"
            ]
          },
          "metadata": {},
          "execution_count": 9
        }
      ]
    },
    {
      "cell_type": "markdown",
      "source": [
        "12. Access the second-to-last element of the tuple ('red', 'green', 'blue', 'yellow')."
      ],
      "metadata": {
        "id": "H8RPFZVc3dCi"
      }
    },
    {
      "cell_type": "code",
      "source": [
        "tt=('red','green','blue','yellow')\n",
        "tt[1:]"
      ],
      "metadata": {
        "colab": {
          "base_uri": "https://localhost:8080/"
        },
        "id": "SRXvNZlZ3aAM",
        "outputId": "bb17ed31-46b2-4b43-820a-409eeeabd896"
      },
      "execution_count": 11,
      "outputs": [
        {
          "output_type": "execute_result",
          "data": {
            "text/plain": [
              "('green', 'blue', 'yellow')"
            ]
          },
          "metadata": {},
          "execution_count": 11
        }
      ]
    },
    {
      "cell_type": "markdown",
      "source": [
        "13. Find the minimum number in the tuple (20, 0, 5, 15)."
      ],
      "metadata": {
        "id": "irKoA2fe3_Qf"
      }
    },
    {
      "cell_type": "code",
      "source": [
        "tup = (20, 0, 5, 15)\n",
        "print(min(tup))\n"
      ],
      "metadata": {
        "colab": {
          "base_uri": "https://localhost:8080/"
        },
        "id": "PbjhZQHw3k_i",
        "outputId": "187ea69d-27bb-4b14-e8e9-631d9d0da602"
      },
      "execution_count": 12,
      "outputs": [
        {
          "output_type": "stream",
          "name": "stdout",
          "text": [
            "0\n"
          ]
        }
      ]
    },
    {
      "cell_type": "markdown",
      "source": [
        "14. Find the index of the element \"cat\" in the tuple ('dog', 'cat', 'rabbit').\n"
      ],
      "metadata": {
        "id": "X8A5JG_p4FWA"
      }
    },
    {
      "cell_type": "code",
      "source": [
        "tu=('dog','cat','rabbit')\n",
        "tu.index('cat')"
      ],
      "metadata": {
        "colab": {
          "base_uri": "https://localhost:8080/"
        },
        "id": "FJ0-Hu6w4CPS",
        "outputId": "3f5ff2d9-4139-4488-96cf-074655d54c2a"
      },
      "execution_count": 14,
      "outputs": [
        {
          "output_type": "execute_result",
          "data": {
            "text/plain": [
              "1"
            ]
          },
          "metadata": {},
          "execution_count": 14
        }
      ]
    },
    {
      "cell_type": "markdown",
      "source": [
        "15. Create a tuple containing three different fruits and check if \"kiwi\" is in it."
      ],
      "metadata": {
        "id": "rTfdAg-G4Ps6"
      }
    },
    {
      "cell_type": "code",
      "source": [
        "fruit=(\"apple\",'banana' ,'kiwi')\n",
        "print('kiwi' in fruit)\n"
      ],
      "metadata": {
        "colab": {
          "base_uri": "https://localhost:8080/"
        },
        "id": "XVTbniVz4LDP",
        "outputId": "496dacc6-1de2-437d-be9a-b19c2a8bffc4"
      },
      "execution_count": 22,
      "outputs": [
        {
          "output_type": "stream",
          "name": "stdout",
          "text": [
            "True\n"
          ]
        }
      ]
    },
    {
      "cell_type": "markdown",
      "source": [
        "16. Create a set with the elements 'a', 'b', 'c' and print it.\n"
      ],
      "metadata": {
        "id": "6yLdqaLQ4xpa"
      }
    },
    {
      "cell_type": "code",
      "source": [
        "s={'a','b','c'}\n",
        "s"
      ],
      "metadata": {
        "colab": {
          "base_uri": "https://localhost:8080/"
        },
        "id": "_AT7N2Xs4Yr9",
        "outputId": "d93d6826-1d0b-41ee-b670-ce2a9d3f618d"
      },
      "execution_count": 24,
      "outputs": [
        {
          "output_type": "execute_result",
          "data": {
            "text/plain": [
              "{'a', 'b', 'c'}"
            ]
          },
          "metadata": {},
          "execution_count": 24
        }
      ]
    },
    {
      "cell_type": "markdown",
      "source": [
        "17. Clear all elements from the set {1, 2, 3, 4, 5}."
      ],
      "metadata": {
        "id": "bn56JO3F47Ag"
      }
    },
    {
      "cell_type": "code",
      "source": [
        "s = {1, 2, 3, 4, 5}\n",
        "s.clear()\n",
        "s\n"
      ],
      "metadata": {
        "colab": {
          "base_uri": "https://localhost:8080/"
        },
        "id": "Is6zTrEh43qE",
        "outputId": "bc5aa70a-44e0-4780-a545-01d7b6c26302"
      },
      "execution_count": 27,
      "outputs": [
        {
          "output_type": "execute_result",
          "data": {
            "text/plain": [
              "set()"
            ]
          },
          "metadata": {},
          "execution_count": 27
        }
      ]
    },
    {
      "cell_type": "markdown",
      "source": [
        "18. Remove the element 4 from the set {1, 2, 3, 4}."
      ],
      "metadata": {
        "id": "un88GKR-5FVD"
      }
    },
    {
      "cell_type": "code",
      "source": [
        "s = {1, 2, 3, 4}\n",
        "s.remove(4)\n",
        "print(s)\n"
      ],
      "metadata": {
        "colab": {
          "base_uri": "https://localhost:8080/"
        },
        "id": "zJPbWtSO48vp",
        "outputId": "972e3d31-a5ed-4978-a6fa-29b0fa388327"
      },
      "execution_count": 28,
      "outputs": [
        {
          "output_type": "stream",
          "name": "stdout",
          "text": [
            "{1, 2, 3}\n"
          ]
        }
      ]
    },
    {
      "cell_type": "markdown",
      "source": [
        "19. Find the union of two sets {1, 2, 3} and {3, 4, 5}.\n",
        "\n"
      ],
      "metadata": {
        "id": "slGpVnrf5Ht5"
      }
    },
    {
      "cell_type": "code",
      "source": [
        "set1 = {1, 2, 3}\n",
        "set2 = {3, 4, 5}\n",
        "print(set1.union(set2))\n"
      ],
      "metadata": {
        "colab": {
          "base_uri": "https://localhost:8080/"
        },
        "id": "zEr_sxV_5HNe",
        "outputId": "9f7a04dd-aa05-4698-daa7-d0ca1ca8c02d"
      },
      "execution_count": 30,
      "outputs": [
        {
          "output_type": "stream",
          "name": "stdout",
          "text": [
            "{1, 2, 3, 4, 5}\n"
          ]
        }
      ]
    },
    {
      "cell_type": "markdown",
      "source": [
        "20. Find the intersection of two sets {1, 2, 3} and {2, 3, 4}."
      ],
      "metadata": {
        "id": "WJoQZpCG5QBj"
      }
    },
    {
      "cell_type": "code",
      "source": [
        "set1 = {1, 2, 3}\n",
        "set2 = {2, 3, 4}\n",
        "print(set1.intersection(set2))\n"
      ],
      "metadata": {
        "colab": {
          "base_uri": "https://localhost:8080/"
        },
        "id": "iibP1axj5OxE",
        "outputId": "b41f4844-50ef-4fe5-ffe1-92fae6159d44"
      },
      "execution_count": 31,
      "outputs": [
        {
          "output_type": "stream",
          "name": "stdout",
          "text": [
            "{2, 3}\n"
          ]
        }
      ]
    },
    {
      "cell_type": "markdown",
      "source": [
        "21. Create a dictionary with the keys 'name', 'age', and 'city', and print it."
      ],
      "metadata": {
        "id": "KqwJ-wy95XVL"
      }
    },
    {
      "cell_type": "code",
      "source": [
        "person = {'name': 'Alice', 'age': 25, 'city': 'Paris'}\n",
        "print(person)\n"
      ],
      "metadata": {
        "colab": {
          "base_uri": "https://localhost:8080/"
        },
        "id": "gxRJVTSU5SpI",
        "outputId": "d903b5cd-ad8a-4428-a663-7a661f6a2934"
      },
      "execution_count": 32,
      "outputs": [
        {
          "output_type": "stream",
          "name": "stdout",
          "text": [
            "{'name': 'Alice', 'age': 25, 'city': 'Paris'}\n"
          ]
        }
      ]
    },
    {
      "cell_type": "markdown",
      "source": [
        "22. Add a new key–value pair \"country\": \"USA\" to the dictionary {'name': 'John', 'age': 25}."
      ],
      "metadata": {
        "id": "OBPolcEv5cVK"
      }
    },
    {
      "cell_type": "code",
      "source": [
        "person = {'name': 'John', 'age': 25}\n",
        "person['country'] = 'USA'\n",
        "print(person)\n"
      ],
      "metadata": {
        "colab": {
          "base_uri": "https://localhost:8080/"
        },
        "id": "a4DA_YG35ZtN",
        "outputId": "8acbf44d-c9a6-4091-e56c-0a0039d8f1c8"
      },
      "execution_count": 33,
      "outputs": [
        {
          "output_type": "stream",
          "name": "stdout",
          "text": [
            "{'name': 'John', 'age': 25, 'country': 'USA'}\n"
          ]
        }
      ]
    },
    {
      "cell_type": "markdown",
      "source": [
        "23. Access the value associated with the key 'name' in the dictionary {'name': 'Alice', 'age': 30}."
      ],
      "metadata": {
        "id": "jTlA_9xK5ikD"
      }
    },
    {
      "cell_type": "code",
      "source": [
        "person = {'name': 'Alice', 'age': 30}\n",
        "print(person['name'])\n"
      ],
      "metadata": {
        "colab": {
          "base_uri": "https://localhost:8080/"
        },
        "id": "Eyu_wfPL5eKM",
        "outputId": "38db58a9-adee-4720-8637-77340bb5066e"
      },
      "execution_count": 36,
      "outputs": [
        {
          "output_type": "stream",
          "name": "stdout",
          "text": [
            "Alice\n"
          ]
        }
      ]
    },
    {
      "cell_type": "markdown",
      "source": [
        "25. Check if the key 'city' exists in the dictionary {'name': 'Alice', 'city': 'Paris'}."
      ],
      "metadata": {
        "id": "q0K3-gdl5nDf"
      }
    },
    {
      "cell_type": "code",
      "source": [
        "person = {'name': 'Alice', 'city': 'Paris'}\n",
        "print('city' in person)\n"
      ],
      "metadata": {
        "colab": {
          "base_uri": "https://localhost:8080/"
        },
        "id": "P97jn2o85g11",
        "outputId": "41f3c5c7-985e-4d43-df86-7053bfb9a03a"
      },
      "execution_count": 37,
      "outputs": [
        {
          "output_type": "stream",
          "name": "stdout",
          "text": [
            "True\n"
          ]
        }
      ]
    },
    {
      "cell_type": "markdown",
      "source": [
        "26. Create a list, a tuple, and a dictionary, and print them all."
      ],
      "metadata": {
        "id": "WUpMl-uZ5svw"
      }
    },
    {
      "cell_type": "code",
      "source": [
        "my_list = [1, 2, 3]\n",
        "my_tuple = (4, 5, 6)\n",
        "my_dict = {'a': 7, 'b': 8}\n",
        "print(my_list)\n",
        "print(my_tuple)\n",
        "print(my_dict)\n"
      ],
      "metadata": {
        "colab": {
          "base_uri": "https://localhost:8080/"
        },
        "id": "CLSAgN6H5plx",
        "outputId": "f209dc8a-ab91-42eb-fd32-976fc2bfeb58"
      },
      "execution_count": 38,
      "outputs": [
        {
          "output_type": "stream",
          "name": "stdout",
          "text": [
            "[1, 2, 3]\n",
            "(4, 5, 6)\n",
            "{'a': 7, 'b': 8}\n"
          ]
        }
      ]
    },
    {
      "cell_type": "markdown",
      "source": [
        "27. Create a list of 5 random numbers between 1 and 100, sort it in ascending order, and print the result."
      ],
      "metadata": {
        "id": "u_PaWhG65ydD"
      }
    },
    {
      "cell_type": "code",
      "source": [
        "import random\n",
        "rand_list = random.sample(range(1, 101), 5)\n",
        "rand_list.sort()\n",
        "print(rand_list)\n"
      ],
      "metadata": {
        "colab": {
          "base_uri": "https://localhost:8080/"
        },
        "id": "8mhQWOlu5vpk",
        "outputId": "07eee21a-df36-4ab5-9b53-40e10519f194"
      },
      "execution_count": 39,
      "outputs": [
        {
          "output_type": "stream",
          "name": "stdout",
          "text": [
            "[1, 24, 40, 78, 80]\n"
          ]
        }
      ]
    },
    {
      "cell_type": "markdown",
      "source": [
        "28. Create a list with strings and print the element at the third index."
      ],
      "metadata": {
        "id": "QwtmJEWb51a1"
      }
    },
    {
      "cell_type": "code",
      "source": [
        "words = ['apple', 'banana', 'cherry', 'date', 'fig']\n",
        "print(words[3])\n"
      ],
      "metadata": {
        "colab": {
          "base_uri": "https://localhost:8080/"
        },
        "id": "kkmbk41e50Wb",
        "outputId": "dc9ecc37-1439-4fa8-916f-db0057a94c9a"
      },
      "execution_count": 40,
      "outputs": [
        {
          "output_type": "stream",
          "name": "stdout",
          "text": [
            "date\n"
          ]
        }
      ]
    },
    {
      "cell_type": "markdown",
      "source": [
        "29. Combine two dictionaries into one and print the result."
      ],
      "metadata": {
        "id": "iV9H25_Y58A5"
      }
    },
    {
      "cell_type": "code",
      "source": [
        "dict1 = {'a': 1, 'b': 2}\n",
        "dict2 = {'c': 3, 'd': 4}\n",
        "combined = {**dict1, **dict2}\n",
        "print(combined)\n"
      ],
      "metadata": {
        "colab": {
          "base_uri": "https://localhost:8080/"
        },
        "id": "RelfFb32550K",
        "outputId": "c03e4e8c-6e28-4015-ffdf-6c6a1e0c0c4b"
      },
      "execution_count": 41,
      "outputs": [
        {
          "output_type": "stream",
          "name": "stdout",
          "text": [
            "{'a': 1, 'b': 2, 'c': 3, 'd': 4}\n"
          ]
        }
      ]
    },
    {
      "cell_type": "markdown",
      "source": [
        "30. Convert a list of strings into a set."
      ],
      "metadata": {
        "id": "t2Z4lzJ16An5"
      }
    },
    {
      "cell_type": "code",
      "source": [
        "words = ['apple', 'banana', 'apple', 'cherry']\n",
        "unique_words = set(words)\n",
        "print(unique_words)\n"
      ],
      "metadata": {
        "colab": {
          "base_uri": "https://localhost:8080/"
        },
        "id": "syC_2Ifk5-it",
        "outputId": "50dc5f75-6ae3-4e45-ea93-ff73e939ffa2"
      },
      "execution_count": 42,
      "outputs": [
        {
          "output_type": "stream",
          "name": "stdout",
          "text": [
            "{'apple', 'banana', 'cherry'}\n"
          ]
        }
      ]
    }
  ]
}